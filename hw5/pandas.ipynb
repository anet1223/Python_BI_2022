{
 "cells": [
  {
   "cell_type": "markdown",
   "metadata": {},
   "source": [
    "# Работа с реальными данными"
   ]
  },
  {
   "cell_type": "markdown",
   "metadata": {},
   "source": [
    "Импорт библиотек"
   ]
  },
  {
   "cell_type": "code",
   "execution_count": null,
   "metadata": {},
   "outputs": [],
   "source": [
    "import pandas as pd\n",
    "import matplotlib.pyplot as plt\n",
    "import numpy as np\n",
    "import seaborn as sns"
   ]
  },
  {
   "cell_type": "markdown",
   "metadata": {},
   "source": [
    "Функции read_gff и read_bed6 для чтения соответствующих форматов. Функция read_gff оставляет в колонке с атрибутами только данные о типе рРНК одной короткой строкой (16S, 23S, 5S)"
   ]
  },
  {
   "cell_type": "code",
   "execution_count": null,
   "metadata": {},
   "outputs": [],
   "source": [
    "def read_gff(file):\n",
    "    col_names = ['seqid', 'source', 'type', 'start', 'end', 'score', 'strand', 'phase', 'RNA type']\n",
    "    df = pd.read_csv(file,sep='\\t', comment='#', low_memory=False, header=None, names=col_names)\n",
    "    # удаление всей лишней информации из атрибутов\n",
    "    df['RNA type'] = [x.split('_')[-0] for x in df['RNA type']]\n",
    "    df['RNA type'] = [x.split('=')[-1] for x in df['RNA type']]\n",
    "    return df\n",
    "def read_bed6(file):\n",
    "    col_n = ['seqid', 'start', 'end', 'name', 'score', 'strand']\n",
    "    df = pd.read_csv(file, sep='\\t', comment='#', header=None,names=col_n)\n",
    "    return df"
   ]
  },
  {
   "cell_type": "markdown",
   "metadata": {},
   "source": [
    "Загрузка файлов в дата фреймы"
   ]
  },
  {
   "cell_type": "code",
   "execution_count": null,
   "metadata": {},
   "outputs": [],
   "source": [
    "df1 = read_gff(r'C:\\Users\\к164\\Downloads\\rrna_annotation.gff')\n",
    "df2 = read_bed6(r'C:\\Users\\к164\\Downloads\\alignment.bed')"
   ]
  },
  {
   "cell_type": "markdown",
   "metadata": {},
   "source": [
    "Подсчет типов РНК"
   ]
  },
  {
   "cell_type": "code",
   "execution_count": null,
   "metadata": {},
   "outputs": [],
   "source": [
    "new = df1.groupby(['seqid','RNA type'], as_index = False) \\\n",
    "     .aggregate({'type':'count'}) \\\n",
    "     .rename(columns ={'type':'Count', 'seqid':'Sequence'})\n",
    "new.head()"
   ]
  },
  {
   "cell_type": "markdown",
   "metadata": {},
   "source": [
    "График по типу РНК"
   ]
  },
  {
   "cell_type": "code",
   "execution_count": null,
   "metadata": {},
   "outputs": [],
   "source": [
    "sns.barplot(x = 'Sequence', y = 'Count', hue = 'RNA type', data = new)\n",
    "plt.xticks(rotation=90)\n",
    "plt.title('RNA type count')"
   ]
  },
  {
   "cell_type": "markdown",
   "metadata": {},
   "source": [
    "Пересечение референса и прочтений"
   ]
  },
  {
   "cell_type": "code",
   "execution_count": null,
   "metadata": {},
   "outputs": [],
   "source": [
    "merge_df = pd.merge(df2,df1, how='inner', on = 'seqid')\n",
    "new_merge = merge_df.query('start_x<=start_y and end_x>=end_y')\n",
    "new_merge"
   ]
  },
  {
   "cell_type": "markdown",
   "metadata": {},
   "source": [
    "# Кастомизация графиков"
   ]
  },
  {
   "cell_type": "markdown",
   "metadata": {},
   "source": [
    "Загрузка и преобразование дата фрейма"
   ]
  },
  {
   "cell_type": "code",
   "execution_count": null,
   "metadata": {},
   "outputs": [],
   "source": [
    "vol = pd.read_csv(r'C:\\Users\\к164\\Downloads\\diffexpr_data.tsv.gz',sep='\\t')\n",
    "# создание столбца с значимостью изменений\n",
    "vol['result'] = 0\n",
    "r1 = vol.query('logFC>=0 and log_pval>=0.05')[['result']]\n",
    "r1['result'] = 'Significantly upregulated'\n",
    "r2 = vol.query('logFC>=0 and log_pval<=0.05')[['result']]\n",
    "r2['result'] = 'Non-significantly upregulated'\n",
    "r3 = vol.query('logFC<0 and log_pval>0.05')[['result']]\n",
    "r3['result'] = 'Significantly downregulated'\n",
    "r4 = vol.query('logFC<0 and log_pval<0.05')[['result']]\n",
    "r4['result'] = 'Non-significantly downregulated'\n",
    "new = pd.concat([r1,r2,r3,r4])\n",
    "vol = pd.merge(vol, new, left_index=True, right_index=True)\n",
    "vol = vol.rename(columns = {'result_y':'Expression'})\n",
    "vol"
   ]
  },
  {
   "cell_type": "code",
   "execution_count": null,
   "metadata": {},
   "outputs": [],
   "source": [
    "# определение границ линий\n",
    "max_FC = max(vol.logFC)\n",
    "min_FC = min(vol.logFC)\n",
    "max_p = max(vol.log_pval)\n",
    "min_p = min(vol.log_pval)"
   ]
  },
  {
   "cell_type": "markdown",
   "metadata": {},
   "source": [
    "График"
   ]
  },
  {
   "cell_type": "code",
   "execution_count": null,
   "metadata": {},
   "outputs": [],
   "source": [
    "# размер графика\n",
    "plt.rcParams[\"figure.figsize\"] = (20,10)\n",
    "# пунктирные линии\n",
    "plt.plot([min_FC,max_FC], [0.05,0.05], color='grey', linestyle='dashed',lw = 2)\n",
    "plt.plot([0,0], [max_p,min_p],color='grey', linestyle='dashed',lw = 2)\n",
    "plt.annotate('p value = 0.05', xy=(6.5, 1),fontsize=18,color='grey',fontweight=\"bold\")\n",
    "# scatter plot\n",
    "sns.scatterplot(x = 'logFC', y = 'log_pval', data = vol, hue = 'Expression',\n",
    "                hue_order = ['Significantly downregulated','Significantly upregulated',\n",
    "                            'Non-significantly downregulated','Non-significantly upregulated'])\n",
    "plt.xlabel(\"log\\u2082(fold change)\", fontsize=20, fontweight=\"bold\",style='italic')\n",
    "plt.ylabel(\"-log\\u2081\\u2080 p-value corrected\", fontsize=20, fontweight=\"bold\",style='italic')\n",
    "plt.legend(fontsize=20, title = None, shadow =4)\n",
    "plt.title('Volcano plot',fontsize=30, fontweight=\"bold\",style='italic' )\n",
    "plt.ylim(-5,119)\n",
    "plt.minorticks_on()\n",
    "plt.tick_params(axis='both', which='major', labelsize=16)\n",
    "# анотация отдельных генов. Значение позиций были получены через query, но запросы я не сохранила, чтобы не перегружать код. \n",
    "arrowprops = {'arrowstyle': '->','linewidth':'4', 'color':'red'}\n",
    "plt.annotate('UMOD',xy=(min_FC, 52),xytext=(min_FC, 60),arrowprops=arrowprops, fontsize=15,fontweight=\"bold\")\n",
    "plt.annotate('MUC7',xy=(-9.196, 3),xytext=(-9.196, 10),arrowprops=arrowprops,fontsize=15,fontweight=\"bold\")\n",
    "plt.annotate('ZIC5',xy=(4.2767, 5),xytext=(4.2767, 15),arrowprops=arrowprops,fontsize=15,fontweight=\"bold\")\n",
    "plt.annotate('ZIC2',xy=(4.5719, 3),xytext=(4.5719, 12),arrowprops=arrowprops,fontsize=15,fontweight=\"bold\")"
   ]
  },
  {
   "cell_type": "markdown",
   "metadata": {},
   "source": [
    "# Pie chart"
   ]
  },
  {
   "cell_type": "code",
   "execution_count": null,
   "metadata": {},
   "outputs": [],
   "source": [
    "fig, ax = plt.subplots(figsize=(6, 3), subplot_kw=dict(aspect=\"equal\"))\n",
    "\n",
    "recipe = ['other', 'BMW', 'FORD',\n",
    "        'TESLA', 'JAGUAR', 'MERCEDES']\n",
    "\n",
    "data = [225, 90, 50, 60, 100, 5]\n",
    "autopr = [42.45, 16.98, 9.43, 11.32, 18.87, 0.94]\n",
    "explode = (0.1, 0.05, 0.05, 0.05,0.05,0.05)\n",
    "\n",
    "wedges, texts = ax.pie(data, startangle=-40, explode = explode, wedgeprops=dict(width=0.9))\n",
    "\n",
    "bbox_props = dict(boxstyle=\"square,pad=0.3\", fc=\"w\", ec=\"k\", lw=0.72)\n",
    "kw = dict(arrowprops=dict(arrowstyle=\"-\"),\n",
    "          bbox=bbox_props, zorder=0, va=\"center\")\n",
    "\n",
    "for i, p in enumerate(wedges):\n",
    "    ang = (p.theta2 - p.theta1)/2. + p.theta1\n",
    "    y = np.sin(np.deg2rad(ang))\n",
    "    x = np.cos(np.deg2rad(ang))\n",
    "    horizontalalignment = {-1: \"right\", 1: \"left\"}[int(np.sign(x))]\n",
    "    connectionstyle = \"angle,angleA=0,angleB={}\".format(ang)\n",
    "    kw[\"arrowprops\"].update({\"connectionstyle\": connectionstyle})\n",
    "    ax.annotate(str(recipe[i]+'\\n'+ str(autopr[i])+'%'), xy=(x, y), xytext=(1.35*np.sign(x), 1.4*y),\n",
    "                horizontalalignment=horizontalalignment, **kw)\n",
    "\n",
    "\n"
   ]
  },
  {
   "cell_type": "code",
   "execution_count": null,
   "metadata": {},
   "outputs": [],
   "source": []
  }
 ],
 "metadata": {
  "kernelspec": {
   "display_name": "Python 3 (ipykernel)",
   "language": "python",
   "name": "python3"
  },
  "language_info": {
   "codemirror_mode": {
    "name": "ipython",
    "version": 3
   },
   "file_extension": ".py",
   "mimetype": "text/x-python",
   "name": "python",
   "nbconvert_exporter": "python",
   "pygments_lexer": "ipython3",
   "version": "3.9.12"
  }
 },
 "nbformat": 4,
 "nbformat_minor": 4
}
